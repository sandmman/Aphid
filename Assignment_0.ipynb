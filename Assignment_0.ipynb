{
  "nbformat": 4,
  "nbformat_minor": 0,
  "metadata": {
    "colab": {
      "name": "Assignment 0.ipynb",
      "provenance": [],
      "collapsed_sections": [],
      "include_colab_link": true
    },
    "kernelspec": {
      "display_name": "Python 3",
      "language": "python",
      "name": "python3"
    },
    "language_info": {
      "codemirror_mode": {
        "name": "ipython",
        "version": 3
      },
      "file_extension": ".py",
      "mimetype": "text/x-python",
      "name": "python",
      "nbconvert_exporter": "python",
      "pygments_lexer": "ipython3",
      "version": "3.7.9"
    },
    "accelerator": "GPU"
  },
  "cells": [
    {
      "cell_type": "markdown",
      "metadata": {
        "id": "view-in-github",
        "colab_type": "text"
      },
      "source": [
        "<a href=\"https://colab.research.google.com/github/sandmman/Aphid/blob/master/Assignment_0.ipynb\" target=\"_parent\"><img src=\"https://colab.research.google.com/assets/colab-badge.svg\" alt=\"Open In Colab\"/></a>"
      ]
    },
    {
      "cell_type": "markdown",
      "metadata": {
        "colab_type": "text",
        "id": "BckUOSXHptwv"
      },
      "source": [
        "## ECBM E4040 Neural Networks and Deep Learning \n",
        "### Columbia University, Fall 2020."
      ]
    },
    {
      "cell_type": "markdown",
      "metadata": {
        "colab_type": "text",
        "id": "OTCbBGu2ptwz"
      },
      "source": [
        "# ECBM E4040 - Assignment 0 "
      ]
    },
    {
      "cell_type": "markdown",
      "metadata": {
        "colab_type": "text",
        "id": "0ybyMSAPptw2"
      },
      "source": [
        "The assignment is distributed as a jupyter notebook called Assignment 0.ipynb from a github repository (or as a zip file).  Additional instructions and support material for the assignment can be found in file README.md which comes with the assignment and in a set of webpages under https://ecbme4040.github.io/2020_fall/index.html. The assignment uses TensorFlow version 2.2. \n",
        "\n",
        "The simplest way to initially see the content of the jupyter notebook file Assignment 0.ipynb is to use Google Colab in the cloud: (i) Use your UNI@columbia.edu account to log into the Colab (https://colab.research.google.com/notebooks/intro.ipynb); (ii) Upload Assignment 0.ipynb, explore and run the file. \n",
        "\n",
        "For students who are formally registered into this class at the end of the add/drop period, the assignment requires that students complete the tasks from this Jupyter Notebook while running it on the Google Cloud (GCP) custom image (not Colab, Colab is only a temporary execution method).\n",
        "\n",
        "Detailed instructions how to submit this assignement/homework will be posted after the add/drop period."
      ]
    },
    {
      "cell_type": "markdown",
      "metadata": {
        "colab_type": "text",
        "id": "erLmkACPptw4"
      },
      "source": [
        "## Welcome to ECBM E4040 Neural Networks & Deep Learning \n",
        "\n",
        "This course teaches theory, concepts, modelling and programming techniques. The assignments are focused on practical coding for creating, testing and running deep learning models.\n",
        "\n",
        "The __assignment 0__ introduces our programming environment and tools, and basic TensorFlow operations.\n",
        "\n",
        "The assignment consists of the following components:\n",
        "* Programming environment setup - Google Compute Engine/local machine, Python, TensorFlow.\n",
        "* Using Jupyter Notebook\n",
        "* TensorFlow basics\n",
        "* A demo of a program written in TensorFlow\n",
        "\n",
        "<p style='color:red'>Cells marked with <strong>'TODO'</strong> need to be completed by students, as a part of the assignment.</p>\n",
        "\n",
        "Please consult TAs or post your problems/issues on the Piazza site."
      ]
    },
    {
      "cell_type": "markdown",
      "metadata": {
        "colab_type": "text",
        "id": "H9x7wOPtptw6"
      },
      "source": [
        "## Part 1 - Setting up the Programming Environment\n",
        "\n",
        "For this course, we use __Python__ as the programming language, and [__TensorFlow__](https://www.tensorflow.org) as the deep learning framework. \n",
        "\n",
        "Our course website (https://ecbme4040.github.io/) provides a number of tutorials:\n",
        "* Local Environment Setup\n",
        "* Google Compute Engine (GCE) Setup on the Google Cloud Platform (GCP)\n",
        "* Python Tutorial\n",
        "* TensorFlow Tutorial\n",
        "* Linux Tutorial\n",
        "* Git Commands\n",
        "* Google Colab - link to Google Collaboratory online tool"
      ]
    },
    {
      "cell_type": "markdown",
      "metadata": {
        "colab_type": "text",
        "id": "SYYOvF3fTJzX"
      },
      "source": [
        "<p style='color:red'><strong>TODO:</strong></p>\n",
        "\n",
        "This list shows the big picure for what students need to do to complete the assignment. Later cells in this jupyter notebook describe the details of the operations that need to be executed as TODO items.\n",
        "\n",
        "* Create an account on github, and familiarize yourself both with git operations and with Github \n",
        "\n",
        "* Execute Assignement0.ipynb in Colab: Fetch the Assignement0.ipynb file (from github), upload it into the Google Colab, and execute it inside the Colab environment. To do this, you need to understand python, and the operation of jypyter notebooks. This step is useful for a quick first execution. Keep the modified Jupyter notebook with your solutions.\n",
        "\n",
        "* Create your own Google Cloud project and virtual machine (VM) instance in the Google Cloud Platform, by following the tutorial on Google Compute Engine (GCE) Setup. This will be the main and the required mode of operation for all future assignments. Note: working with google cloud requires funding - you can initially use the 300 dollars that everyone gets from Google, after the add/drop period you will be given codes/coupons from the instructors.\n",
        "\n",
        "* Execute (again) the Assignement0.ipynb within your VM in the Google Cloud. Save the resulting Jupyter Notebook. Take a screenshots of the VM instance from the Google Cloud project dashboard. Take a screenshot of the jupyter notebook when launched from google cloud. The screenshots will need to be submitted as a part of the homework to document that you have successfully launched a cloud instance. The modified jupyter notebook which contains the populate \"TODO/SOLUTIONS\" portions of the code needs to be submitted.\n",
        "\n",
        "* (Optional) Set up your local laptop deep learning environment, following the tutorial on the Local Environment Setup. Since the use of Google Cloud requires funding, it is often useful to debug your code locally on a laptop, and to run it remotely in Google Cloud VM.\n",
        "\n",
        "* (Optional) Knowledge of Python, Linux and Git operations are needed for this course. Doing the tutorials is optional, depending on your prior knowledge of these topics.\n",
        "\n",
        "* (Optional) Tutorials on TensorFlow are extensive. As you progress with this course, they are an excellent complement to our class."
      ]
    },
    {
      "cell_type": "markdown",
      "metadata": {
        "colab_type": "text",
        "id": "h0-p84qHptw8"
      },
      "source": [
        "## Part 2 - How to use Jupyter Notebook - Basics\n",
        "\n",
        "Jupyter Notebook is an interactive Python programming interface. Jupyter Notebook files have a postfix _.ipynb_, and each file is made up of several blocks of code which are called __cells__. Each cell can be configured as a __coding cell__ or a __Markdown text cell__. Google colab is the easiest installation-free platform to run and familiarize oneself with Jupyter Notebook operations.\n",
        "\n",
        "Basic instructions:\n",
        "\n",
        "* The menu bars are located on the top of a notebook.\n",
        "* To execute a cell, select it, and press `ctrl+Enter`. (You may also try `shift+Enter` and `alt+Enter` to see the difference).\n",
        "* To switch between code and Markdown, select a cell, and select the mode you want in the dropdown menu in the menu bar.\n",
        "\n",
        "A full guide to Jupyter Notebook can be accessed in the _Help_ menu in the menu bar. \n"
      ]
    },
    {
      "cell_type": "code",
      "metadata": {
        "colab_type": "code",
        "id": "ih8-yaIcptw-",
        "colab": {
          "base_uri": "https://localhost:8080/",
          "height": 34
        },
        "outputId": "fd245da9-4449-47cd-de0f-37a4bae42a6f"
      },
      "source": [
        "# To test that you understand how to use a coding cell, make this cell output a string 'Hello Jpuyter!'. \n",
        "# We've written the code, all you need to do is to execute it.\n",
        "print('Hello Jupyter!')"
      ],
      "execution_count": null,
      "outputs": [
        {
          "output_type": "stream",
          "text": [
            "Hello Jupyter!\n"
          ],
          "name": "stdout"
        }
      ]
    },
    {
      "cell_type": "markdown",
      "metadata": {
        "colab_type": "text",
        "id": "HHIrOHgHptxN"
      },
      "source": [
        "## Part 3 - TensorFlow Basics\n",
        "\n",
        "TensorFlow is one of the most popular deep learning frameworks. Originally created by Google, it has received a lot of community support. TensorFlow versions before v2.0 (until summer 2019) contained a number of detailed functions for construction of deep learning (neural network) models, and relied on a two-step process for model creation and execution. \n",
        "TensorFlow versions 2.0 and beyond focus on simplicity and ease of use, with updates like eager execution, intuitive Keras-based higher-level APIs, and flexible model building on any platform.\n",
        "\n",
        "In this part, we look at some basic TensorFlow concepts and operations."
      ]
    },
    {
      "cell_type": "code",
      "metadata": {
        "colab_type": "code",
        "id": "CbHrO0k-TJzf",
        "colab": {
          "base_uri": "https://localhost:8080/",
          "height": 428
        },
        "outputId": "63dd6061-68d1-4756-c1c5-644cf68f86ff"
      },
      "source": [
        "# This cell instals matplotlib tool, directly from Jupyter Notebook. \n",
        "# The image which is distributed by TAs with envTF22 lacks this tool, \n",
        "# so thereby the installation is required.\n",
        "# Run the below cell just once after removing the '#' sign before the command.\n",
        "#!pip install --upgrade matplotlib\n",
        "print(\"matplotlib installed\")"
      ],
      "execution_count": null,
      "outputs": [
        {
          "output_type": "stream",
          "text": [
            "Collecting matplotlib\n",
            "\u001b[?25l  Downloading https://files.pythonhosted.org/packages/cd/d6/8c4dfb23151d5a494c66ebbfdb5c8c433b44ec07fae52da5939fcda0943f/matplotlib-3.3.2-cp36-cp36m-manylinux1_x86_64.whl (11.6MB)\n",
            "\u001b[K     |████████████████████████████████| 11.6MB 11.1MB/s \n",
            "\u001b[?25hRequirement already satisfied, skipping upgrade: numpy>=1.15 in /usr/local/lib/python3.6/dist-packages (from matplotlib) (1.18.5)\n",
            "Requirement already satisfied, skipping upgrade: kiwisolver>=1.0.1 in /usr/local/lib/python3.6/dist-packages (from matplotlib) (1.2.0)\n",
            "Requirement already satisfied, skipping upgrade: pillow>=6.2.0 in /usr/local/lib/python3.6/dist-packages (from matplotlib) (7.0.0)\n",
            "Requirement already satisfied, skipping upgrade: python-dateutil>=2.1 in /usr/local/lib/python3.6/dist-packages (from matplotlib) (2.8.1)\n",
            "Requirement already satisfied, skipping upgrade: certifi>=2020.06.20 in /usr/local/lib/python3.6/dist-packages (from matplotlib) (2020.6.20)\n",
            "Requirement already satisfied, skipping upgrade: pyparsing!=2.0.4,!=2.1.2,!=2.1.6,>=2.0.3 in /usr/local/lib/python3.6/dist-packages (from matplotlib) (2.4.7)\n",
            "Requirement already satisfied, skipping upgrade: cycler>=0.10 in /usr/local/lib/python3.6/dist-packages (from matplotlib) (0.10.0)\n",
            "Requirement already satisfied, skipping upgrade: six>=1.5 in /usr/local/lib/python3.6/dist-packages (from python-dateutil>=2.1->matplotlib) (1.15.0)\n",
            "\u001b[31mERROR: albumentations 0.1.12 has requirement imgaug<0.2.7,>=0.2.5, but you'll have imgaug 0.2.9 which is incompatible.\u001b[0m\n",
            "Installing collected packages: matplotlib\n",
            "  Found existing installation: matplotlib 3.2.2\n",
            "    Uninstalling matplotlib-3.2.2:\n",
            "      Successfully uninstalled matplotlib-3.2.2\n",
            "Successfully installed matplotlib-3.3.2\n"
          ],
          "name": "stdout"
        },
        {
          "output_type": "display_data",
          "data": {
            "application/vnd.colab-display-data+json": {
              "pip_warning": {
                "packages": [
                  "matplotlib",
                  "mpl_toolkits"
                ]
              }
            }
          },
          "metadata": {
            "tags": []
          }
        },
        {
          "output_type": "stream",
          "text": [
            "matplotlib installed\n"
          ],
          "name": "stdout"
        }
      ]
    },
    {
      "cell_type": "code",
      "metadata": {
        "colab_type": "code",
        "id": "Zfw8_AOlptxP",
        "colab": {
          "base_uri": "https://localhost:8080/",
          "height": 51
        },
        "outputId": "f3d0733e-ddd6-4c5a-c029-dd21ae249edd"
      },
      "source": [
        "# Activating TensorFlow in Jupyter Notebook\n",
        "\n",
        "# Disable some warnings, to simplify the output when running the cells\n",
        "import warnings\n",
        "warnings.simplefilter(action='ignore', category=FutureWarning)\n",
        "import numpy as np\n",
        "\n",
        "# Import the TensorFlow module\n",
        "import tensorflow as tf\n",
        "\n",
        "print('TensorFlow Version=')\n",
        "print(tf.__version__)\n",
        "\n",
        "# The following modules will be used in later parts of the assignment.\n",
        "# Make sure that you install the latest version of numpy and matploblib \n",
        "#(inside your conda workspace). Alternativelly, inside your virtual environment, use \"conda install numpy\" \n",
        "# and \"conda install matploblib\" and restart the jupyter notebook. \n",
        "import numpy as np\n",
        "# import input_data\n",
        "%matplotlib inline\n",
        "from matplotlib import pyplot as plt\n",
        "import time"
      ],
      "execution_count": null,
      "outputs": [
        {
          "output_type": "stream",
          "text": [
            "TensorFlow Version=\n",
            "2.3.0\n"
          ],
          "name": "stdout"
        }
      ]
    },
    {
      "cell_type": "markdown",
      "metadata": {
        "colab_type": "text",
        "id": "xqIRW2wcptxY"
      },
      "source": [
        "#### 1. Use of string constant with TensorFlow"
      ]
    },
    {
      "cell_type": "markdown",
      "metadata": {
        "colab_type": "text",
        "id": "FxB4Oqtvptxa"
      },
      "source": [
        "In TensorFlow 2.0 the concept of sessions (as in versions before 2.0) has ben deprecated. Now, variables are accessible instantly (as compared to after sess.run), making this flow \"more pythonic in style\"."
      ]
    },
    {
      "cell_type": "code",
      "metadata": {
        "colab_type": "code",
        "id": "sGS6SiZJptxc",
        "colab": {
          "base_uri": "https://localhost:8080/",
          "height": 34
        },
        "outputId": "84bd4150-b616-4a8f-dd32-707eb2f76095"
      },
      "source": [
        "# Example\n",
        "# Define a string constant\n",
        "string = tf.constant('Hello TensorFlow!')\n",
        "tf.print(string)"
      ],
      "execution_count": null,
      "outputs": [
        {
          "output_type": "stream",
          "text": [
            "Hello TensorFlow!\n"
          ],
          "name": "stdout"
        }
      ]
    },
    {
      "cell_type": "markdown",
      "metadata": {
        "colab_type": "text",
        "id": "IE5Yd4Oeptxl"
      },
      "source": [
        "<p style='color:red'><strong>TODO:</strong></p>"
      ]
    },
    {
      "cell_type": "markdown",
      "metadata": {
        "colab_type": "text",
        "id": "tOOj4TbIT6ho"
      },
      "source": [
        "Follow the example above and use TensorFlow to output the string 'YOUR_NAME:YOUR_UNI'. "
      ]
    },
    {
      "cell_type": "markdown",
      "metadata": {
        "colab_type": "text",
        "id": "3kvXFWjKTJzs"
      },
      "source": [
        "<p style='color:red'><strong>SOLUTION (enter a new cell below):</strong></p>"
      ]
    },
    {
      "cell_type": "code",
      "metadata": {
        "id": "WYMZSg0oF9cw",
        "colab_type": "code",
        "colab": {
          "base_uri": "https://localhost:8080/",
          "height": 34
        },
        "outputId": "f0b36dc3-9971-437b-adb9-12c978afe424"
      },
      "source": [
        "name = tf.constant('aaron_liberatore:aml2322')\n",
        "tf.print(string)"
      ],
      "execution_count": null,
      "outputs": [
        {
          "output_type": "stream",
          "text": [
            "Hello TensorFlow!\n"
          ],
          "name": "stdout"
        }
      ]
    },
    {
      "cell_type": "markdown",
      "metadata": {
        "colab_type": "text",
        "id": "LSBsfBIQptx3"
      },
      "source": [
        "#### 2. Basic math in TensorFlow"
      ]
    },
    {
      "cell_type": "code",
      "metadata": {
        "colab_type": "code",
        "id": "Gy6l7PvLptx4",
        "colab": {
          "base_uri": "https://localhost:8080/",
          "height": 85
        },
        "outputId": "1d621f04-e45c-4d65-c40d-4d0d60cdaaa9"
      },
      "source": [
        "# Example\n",
        "\n",
        "# Define 2 constant nodes. It is a good habit to name your nodes. \n",
        "# The name of the nodes will appear in the TensorBoard graph.\n",
        "a = tf.constant(5, dtype=tf.float32, name='a')\n",
        "b = tf.constant(10, dtype=tf.float32, name='b')\n",
        "\n",
        "# Addition and subtraction\n",
        "add = tf.add(a, b, name='add') # same as a+b\n",
        "sub = tf.subtract(a, b, name='sub') # same as a-b\n",
        "\n",
        "# There is no need for the session to run these operations (as in TensorFlow 1.*)\n",
        "tf.print(\"a:\", a)\n",
        "tf.print(\"b:\", b)\n",
        "tf.print(\"addition:\", add)\n",
        "tf.print(\"subtraction:\", sub)"
      ],
      "execution_count": null,
      "outputs": [
        {
          "output_type": "stream",
          "text": [
            "a: 5\n",
            "b: 10\n",
            "addition: 15\n",
            "subtraction: -5\n"
          ],
          "name": "stdout"
        }
      ]
    },
    {
      "cell_type": "markdown",
      "metadata": {
        "colab_type": "text",
        "id": "-BKpajYGptx-"
      },
      "source": [
        "<p style='color:red'><strong>TODO:</strong></p>"
      ]
    },
    {
      "cell_type": "code",
      "metadata": {
        "colab_type": "code",
        "id": "9qEfh9YOptyA",
        "colab": {
          "base_uri": "https://localhost:8080/",
          "height": 85
        },
        "outputId": "1610722f-e538-4019-ea9b-013d0de76207"
      },
      "source": [
        "# Visit https://www.tensorflow.org/api_guides/python/math_ops \n",
        "# Find proper operations to calculate \n",
        "# a*b (multiplication), a/b (division), a^b (power) and log(a) (natural logarithm),\n",
        "# and demonstrate their uses by outputing their results in a session. \n",
        "# (Note: 'a' and 'b' are defined in the previous cell, you should use them directly.)"
      ],
      "execution_count": null,
      "outputs": [
        {
          "output_type": "stream",
          "text": [
            "Multiply, 50.0\n",
            "Divide, 0.5\n",
            "Power, 9765625.0\n",
            "Log, 1.6094379425048828\n"
          ],
          "name": "stdout"
        }
      ]
    },
    {
      "cell_type": "markdown",
      "metadata": {
        "colab_type": "text",
        "id": "BvMvBvEdTJzx"
      },
      "source": [
        "<p style='color:red'><strong>SOLUTION (enter a new cell below):</strong></p>"
      ]
    },
    {
      "cell_type": "code",
      "metadata": {
        "id": "MkfSwq4rIDv1",
        "colab_type": "code",
        "colab": {
          "base_uri": "https://localhost:8080/",
          "height": 85
        },
        "outputId": "19df0d1c-102c-444c-b055-e81d310a06f4"
      },
      "source": [
        "m = tf.multiply(a, b)\n",
        "print(\"Multiply: {}\".format(m))\n",
        "\n",
        "m = tf.divide(a, b)\n",
        "print(\"Divide: {}\".format(m))\n",
        "\n",
        "m = tf.pow(a, b)\n",
        "print(\"Power: {}\".format(m))\n",
        "\n",
        "m = tf.math.log(a)\n",
        "print(\"Log: {}\".format(m))"
      ],
      "execution_count": null,
      "outputs": [
        {
          "output_type": "stream",
          "text": [
            "Multiply: 50.0\n",
            "Divide: 0.5\n",
            "Power: 9765625.0\n",
            "Log: 1.6094379425048828\n"
          ],
          "name": "stdout"
        }
      ]
    },
    {
      "cell_type": "markdown",
      "metadata": {
        "colab_type": "text",
        "id": "AUY_auy5ptyF"
      },
      "source": [
        "#### 3. Constant tensor, sequences and random numbers in TensorFlow"
      ]
    },
    {
      "cell_type": "code",
      "metadata": {
        "colab_type": "code",
        "id": "eJH7b1ZLptyG",
        "colab": {
          "base_uri": "https://localhost:8080/",
          "height": 323
        },
        "outputId": "dfe7c02e-0bc8-4974-c93b-4638c8a33086"
      },
      "source": [
        "# In TensorFlow, a tensor is an n-dimensional array. \n",
        "# 0-d tensor is a scalar. 1-d tensor is a vector, and so on.\n",
        "\n",
        "# We can use TF functions to create all-zero and all-one tensors.\n",
        "zero_array = tf.zeros(shape=[2,3], dtype=tf.float32, name='zero_array')\n",
        "one_array = tf.ones(shape=[2,3], dtype=tf.float32, name='one_array')\n",
        "\n",
        "# Or use a template to infer the shape.\n",
        "template = tf.constant([[1,2,3],[4,5,6]], dtype=tf.float32, name='template') # Has [2,3] shape\n",
        "zero_like = tf.zeros_like(template, name='zero_like')\n",
        "one_like = tf.ones_like(template, name='one_like')\n",
        "\n",
        "# Some sequence generating functions\n",
        "lin_seq = tf.linspace(start=0.0, stop=5.0, num=5, name='lin_seq')\n",
        "lin_range = tf.range(start=0, limit=7, delta=1, name='lin_range')\n",
        "\n",
        "# A random number function\n",
        "norm = tf.random.normal(shape=[5], mean=3, stddev=2.0)\n",
        "\n",
        "# Printing out\n",
        "tf.print('0 array:\\n', zero_array)\n",
        "tf.print('1 array:\\n', one_array)\n",
        "tf.print('0 inferred:\\n', zero_like)\n",
        "tf.print('1 inferred:\\n', one_like)\n",
        "tf.print('linear sequence:\\n', lin_seq)\n",
        "tf.print('range:\\n', lin_range)\n",
        "tf.print('Random normal:\\n', norm)"
      ],
      "execution_count": null,
      "outputs": [
        {
          "output_type": "stream",
          "text": [
            "0 array:\n",
            " [[0 0 0]\n",
            " [0 0 0]]\n",
            "1 array:\n",
            " [[1 1 1]\n",
            " [1 1 1]]\n",
            "0 inferred:\n",
            " [[0 0 0]\n",
            " [0 0 0]]\n",
            "1 inferred:\n",
            " [[1 1 1]\n",
            " [1 1 1]]\n",
            "linear sequence:\n",
            " [0 1.25 2.5 3.75 5]\n",
            "range:\n",
            " [0 1 2 ... 4 5 6]\n",
            "Random normal:\n",
            " [1.0519557 3.84575748 2.90249753 -0.407419682 4.41958523]\n"
          ],
          "name": "stdout"
        }
      ]
    },
    {
      "cell_type": "markdown",
      "metadata": {
        "colab_type": "text",
        "id": "kzQd8aDBptyJ"
      },
      "source": [
        "<p style='color:red'><strong>TODO:</strong></p>"
      ]
    },
    {
      "cell_type": "code",
      "metadata": {
        "colab_type": "code",
        "id": "AB9Yzp_RptyJ",
        "colab": {}
      },
      "source": [
        "# 1: Generate a 3*3 matrix filled with 9s. \n",
        "# 2: Generate a sequence start from -5.0 to 5.0(inclusive), with step size of 1.0.\n",
        "# 3: Generate another 3*3 matrix with normal distribution. Choose any mean and stddev you like.\n",
        "# Hint: Visit https://www.tensorflow.org/api_guides/python/constant_op"
      ],
      "execution_count": null,
      "outputs": []
    },
    {
      "cell_type": "markdown",
      "metadata": {
        "colab_type": "text",
        "id": "ls2uFFtGTJz1"
      },
      "source": [
        "<p style='color:red'><strong>SOLUTION (enter a new cell below):</strong></p>"
      ]
    },
    {
      "cell_type": "code",
      "metadata": {
        "id": "WHqa-vPlIV6J",
        "colab_type": "code",
        "colab": {
          "base_uri": "https://localhost:8080/",
          "height": 136
        },
        "outputId": "6ab9c46b-8303-49b4-960a-7e7d4bee96f7"
      },
      "source": [
        "# 1: Generate a 3*3 matrix filled with 9s. \n",
        "nine_array = tf.fill(dims=[3,3], value=9, name='nine_array')\n",
        "print(\"nine_array: {}\".format(nine_array))\n",
        "\n",
        "# 2: Generate a sequence start from -5.0 to 5.0(inclusive), with step size of 1.0.\n",
        "range_array = tf.range(start=-5.0, limit=5.0, delta=1, dtype=tf.float32, name='range_array')\n",
        "print(\"range_array: {}\".format(range))\n",
        "\n",
        "# 3: Generate another 3*3 matrix with normal distribution. Choose any mean and stddev you like.\n",
        "normal_matrix = tf.random.normal(\n",
        "    shape=[3,3], mean=0.0, stddev=1.0, dtype=tf.dtypes.float32, seed=None, name=\"normal_matrix\"\n",
        ")\n",
        "print(\"normal_matrix: {}\".format(normal_matrix))"
      ],
      "execution_count": null,
      "outputs": [
        {
          "output_type": "stream",
          "text": [
            "nine_array: [[9 9 9]\n",
            " [9 9 9]\n",
            " [9 9 9]]\n",
            "range_array: [-5. -4. -3. -2. -1.  0.  1.  2.  3.  4.]\n",
            "normal_matrix: [[-0.7045955   0.16568285 -0.10914768]\n",
            " [-0.75484025  0.01126422 -1.0466362 ]\n",
            " [ 1.6686909  -1.2482897  -1.5897906 ]]\n"
          ],
          "name": "stdout"
        }
      ]
    },
    {
      "cell_type": "markdown",
      "metadata": {
        "colab_type": "text",
        "id": "ap_VdFtBptyM"
      },
      "source": [
        "#### 4. Variables in TensorFlow"
      ]
    },
    {
      "cell_type": "code",
      "metadata": {
        "colab_type": "code",
        "id": "1tCS_YQIptyN",
        "colab": {
          "base_uri": "https://localhost:8080/",
          "height": 68
        },
        "outputId": "5ad5ab6a-474f-4ad5-ccce-0c9a9d885f42"
      },
      "source": [
        "# The values of constants (previously described) can not be changed. \n",
        "# For TensorFlow variables, their values can be updated during the training of a network.\n",
        "\n",
        "initial_value = tf.Variable([2,3], dtype=tf.float32) # You need to give an initial value to the variable.\n",
        "tf.print(\"initial value:\", initial_value)\n",
        "\n",
        "# Several ops that can be used to change the value of a variable. \n",
        "# Note that they all become nodes in the graph.\n",
        "new_value = initial_value.assign([4,5])\n",
        "tf.print(\"assigned value:\", new_value)\n",
        "add = initial_value.assign_add([1,1])\n",
        "tf.print(\"add:\", add)"
      ],
      "execution_count": null,
      "outputs": [
        {
          "output_type": "stream",
          "text": [
            "initial value: [2 3]\n",
            "assigned value: [4 5]\n",
            "add: [5 6]\n"
          ],
          "name": "stdout"
        }
      ]
    },
    {
      "cell_type": "markdown",
      "metadata": {
        "colab_type": "text",
        "id": "DWZqSEN8ptyP"
      },
      "source": [
        "<p style='color:red'><strong>TODO:</strong></p>"
      ]
    },
    {
      "cell_type": "code",
      "metadata": {
        "colab_type": "code",
        "id": "m9FXFIoZptyQ",
        "colab": {}
      },
      "source": [
        "# Create a 3*3 tensor variable (the initial values don't matter).\n",
        "# Assign values from 1 to 9 to it and than add 1 to each assigned value in the 3*3 tensor.\n",
        "# Print out the initial values and print out the new values after the assign operation."
      ],
      "execution_count": null,
      "outputs": []
    },
    {
      "cell_type": "markdown",
      "metadata": {
        "colab_type": "text",
        "id": "aebtjEuhTJz5"
      },
      "source": [
        "<p style='color:red'><strong>SOLUTION (enter a new cell below):</strong></p>"
      ]
    },
    {
      "cell_type": "code",
      "metadata": {
        "id": "mC21vxCTKSdk",
        "colab_type": "code",
        "colab": {
          "base_uri": "https://localhost:8080/",
          "height": 221
        },
        "outputId": "7186f35d-0e42-491b-98b6-dd8dad5a8aef"
      },
      "source": [
        "# Create a 3*3 tensor variable (the initial values don't matter)\n",
        "initial_array = tf.Variable(tf.ones(shape=[3,3], name='initial_array'))\n",
        "print(\"initial_array: {}\".format(initial_array))\n",
        "# Assign values from 1 to 9 to it and than add 1 to each assigned value in the 3*3 tensor.\n",
        "assigned_value = initial_array.assign([[1,2,3],[4,5,6],[7,8,9]])\n",
        "print(\"assigned_value: {}\".format(assigned_value))\n",
        "\n",
        "added_value = initial_array.assign(initial_array + 1)\n",
        "print(\"new_value: {}\".format(added_value))\n"
      ],
      "execution_count": null,
      "outputs": [
        {
          "output_type": "stream",
          "text": [
            "initial_array: <tf.Variable 'Variable:0' shape=(3, 3) dtype=float32, numpy=\n",
            "array([[1., 1., 1.],\n",
            "       [1., 1., 1.],\n",
            "       [1., 1., 1.]], dtype=float32)>\n",
            "assigned_value: <tf.Variable 'UnreadVariable' shape=(3, 3) dtype=float32, numpy=\n",
            "array([[1., 2., 3.],\n",
            "       [4., 5., 6.],\n",
            "       [7., 8., 9.]], dtype=float32)>\n",
            "new_value: <tf.Variable 'UnreadVariable' shape=(3, 3) dtype=float32, numpy=\n",
            "array([[ 2.,  3.,  4.],\n",
            "       [ 5.,  6.,  7.],\n",
            "       [ 8.,  9., 10.]], dtype=float32)>\n"
          ],
          "name": "stdout"
        }
      ]
    },
    {
      "cell_type": "markdown",
      "metadata": {
        "colab_type": "text",
        "id": "qrPrL1vuptyX"
      },
      "source": [
        "#### 5. Data type impact"
      ]
    },
    {
      "cell_type": "code",
      "metadata": {
        "colab_type": "code",
        "id": "i0Hi6z_PptyX",
        "colab": {
          "base_uri": "https://localhost:8080/",
          "height": 119
        },
        "outputId": "b1b5c28b-3fc1-4d2a-98c1-7b6b83bf4973"
      },
      "source": [
        "# In tensorflow, the float type of data includes float32 and float64. \n",
        "# In later assignments, \n",
        "# you should always consider float32 as the first choice for sake of efficiency, \n",
        "# even though the precision is lower than for float64.\n",
        "\n",
        "# Here we compare the precision difference between these two types.\n",
        "A32 = tf.Variable([[1,2,3], [4,5,6]], dtype=tf.float32)\n",
        "B32 = (A32 + 0.1)**2\n",
        "A64 = tf.Variable([[1,2,3], [4,5,6]], dtype=tf.float64)\n",
        "B64 = (A64 + 0.1)**2\n",
        "\n",
        "tf.print('float32 result: \\n {}'.format(B32))\n",
        "tf.print('float64 result: \\n {}'.format(B64))"
      ],
      "execution_count": null,
      "outputs": [
        {
          "output_type": "stream",
          "text": [
            "float32 result: \n",
            " [[ 1.21       4.4099994  9.61     ]\n",
            " [16.81      26.009998  37.21     ]]\n",
            "float64 result: \n",
            " [[ 1.21  4.41  9.61]\n",
            " [16.81 26.01 37.21]]\n"
          ],
          "name": "stdout"
        }
      ]
    },
    {
      "cell_type": "markdown",
      "metadata": {
        "colab_type": "text",
        "id": "Uqv2PgZWu_tR"
      },
      "source": [
        "#### 6. Distance calculation"
      ]
    },
    {
      "cell_type": "markdown",
      "metadata": {
        "colab_type": "text",
        "id": "_OPWbQTAvGTG"
      },
      "source": [
        "$$\n",
        "Euclidean Norm(l_2)= \\sqrt{\\sum _{i=1}^{n} \\left( q_{i}-p_{i}\\right)^2 }\n",
        "$$\n",
        "<br>\n",
        "$$\n",
        "Manhattan Distance(l_1)= {\\sum _{i=1}^{n} \\left(|q| - |p|\\right) }\n",
        "$$"
      ]
    },
    {
      "cell_type": "code",
      "metadata": {
        "colab_type": "code",
        "id": "3wUaL-C3vC-1",
        "colab": {}
      },
      "source": [
        "# Distance Calculation \n",
        "#\n",
        "# Create a tensor among the following types : float32, float64, complex64, complex128\n",
        "# Mentioned link details the meaning of each variable : https://www.tensorflow.org/api_docs/python/tf/norm\n",
        "     \n",
        "# create two tensors of shape 2x3.\n",
        "tensor_a = tf.constant([[1,2,3], [4,5,6]], dtype=tf.float32, name='template')\n",
        "tensor_b = tf.constant([[1,1,1], [1,1,1]], dtype=tf.float32, name='template')\n",
        "\n",
        "# 1. Calculating euclidean distance or the l2 norm.\n",
        "\n",
        "eucledian_distance = tf.norm(tensor_a - tensor_b, ord ='euclidean', axis=None, keepdims=None)\n",
        "tf.print(\"Euclidean distance:\", eucledian_distance)\n",
        "\n",
        "\n",
        "# 2. Calculating the Manhattan distance\n",
        "manhattan_distance = tf.norm(tensor_a - tensor_b, ord =1, axis=None, keepdims=None)\n",
        "tf.print(\"Manhattan distance:\", manhattan_distance)"
      ],
      "execution_count": null,
      "outputs": []
    },
    {
      "cell_type": "markdown",
      "metadata": {
        "colab_type": "text",
        "id": "2PQdsHs-vMkO"
      },
      "source": [
        "<p style='color:red'><strong>TODO:</strong></p>"
      ]
    },
    {
      "cell_type": "code",
      "metadata": {
        "colab_type": "code",
        "id": "GOXfmigrvJt-",
        "colab": {}
      },
      "source": [
        "# Create two funtions using numpy which will return the eucledian distance and manhattan distance\n",
        "# between the above mentioned tensors.\n",
        "# Print out their outputs."
      ],
      "execution_count": null,
      "outputs": []
    },
    {
      "cell_type": "markdown",
      "metadata": {
        "colab_type": "text",
        "id": "F-eiIOKyTJz-"
      },
      "source": [
        "<p style='color:red'><strong>SOLUTION (enter a new cell below):</strong></p>"
      ]
    },
    {
      "cell_type": "code",
      "metadata": {
        "id": "55HH4edSPc5a",
        "colab_type": "code",
        "colab": {}
      },
      "source": [
        ""
      ],
      "execution_count": null,
      "outputs": []
    },
    {
      "cell_type": "markdown",
      "metadata": {
        "colab_type": "text",
        "id": "sTiqq8_5wCUh"
      },
      "source": [
        "We have introduced only the basic TensorFlow operations and concepts. We recommend that you visit the TensorFlow tutorial link for many more https://www.tensorflow.org/tutorials. You will need them to be able to efficiently build and execute deep learning models."
      ]
    },
    {
      "cell_type": "markdown",
      "metadata": {
        "colab_type": "text",
        "id": "HC0SVT8owOVP"
      },
      "source": [
        "## Part 4 - TensorFlow Demos\n",
        "Part 4 of this assignemnt consists of a demo. All you need to do is to run the demos and observe the results. This is meant to give you an idea of how TensorFlow is used.\n",
        "\n",
        "Please run the code and look at the outputs. We do not ask you to fully understand the model at this point. However, it would be a good practice if you searched [www.tensorflow.org](https://www.tensorflow.org) to examine the functions which are used in the code. They will be really helpful when you start programming by yourself."
      ]
    },
    {
      "cell_type": "markdown",
      "metadata": {
        "colab_type": "text",
        "id": "UtBIkiexwTPz"
      },
      "source": [
        "### Demo1: Multiclass Logistic Regression\n",
        "#### Loading and preparing the MNIST dataset"
      ]
    },
    {
      "cell_type": "code",
      "metadata": {
        "colab_type": "code",
        "id": "ThOKdLpMUgCz",
        "colab": {}
      },
      "source": [
        "# Multi-class Logistic Regression\n",
        "\n",
        "from tensorflow.keras.datasets import mnist\n",
        "\n",
        "(x_train, y_train), (x_test, y_test) = mnist.load_data()\n",
        "\n",
        "# Convert to float32.\n",
        "\n",
        "x_train, x_test = np.array(x_train, np.float32), np.array(x_test, np.float32)\n",
        "\n",
        "# Flatten images to 1-D vector of 784 features (28*28).\n",
        "num_features = 784 \n",
        "x_train, x_test = x_train.reshape([-1, num_features]), x_test.reshape([-1, num_features])\n",
        "\n",
        "#Normalize images value from [0, 255] to [0, 1].\n",
        "\n",
        "x_train, x_test = x_train / 255., x_test / 255. \n",
        "print(\"Cell executed. Move to the next cell\")"
      ],
      "execution_count": null,
      "outputs": []
    },
    {
      "cell_type": "markdown",
      "metadata": {
        "colab_type": "text",
        "id": "FpxsM006TJz_"
      },
      "source": [
        "#### Setting up hyperparameters and dataset parameters"
      ]
    },
    {
      "cell_type": "code",
      "metadata": {
        "colab_type": "code",
        "id": "rG0KayCcTJz_",
        "colab": {}
      },
      "source": [
        "# MNIST dataset parameters.\n",
        "\n",
        "num_classes = 10 # 0 to 9 digits\n",
        "num_features = 784 # 28*28\n",
        "\n",
        "# Training parameters.\n",
        "\n",
        "learning_rate = 0.01\n",
        "training_steps = 1000\n",
        "batch_size = 256\n",
        "display_step = 50\n",
        "print(\"Cell executed. Move to the next cell\")"
      ],
      "execution_count": null,
      "outputs": []
    },
    {
      "cell_type": "markdown",
      "metadata": {
        "colab_type": "text",
        "id": "txxM16RnTJ0B"
      },
      "source": [
        "#### Shuffling and Batching the data"
      ]
    },
    {
      "cell_type": "code",
      "metadata": {
        "colab_type": "code",
        "id": "PwoRYh3xTJ0B",
        "colab": {}
      },
      "source": [
        "# Using tf.data API to shuffle and batch data.\n",
        "\n",
        "train_data=tf.data.Dataset.from_tensor_slices((x_train,y_train))\n",
        "\n",
        "train_data=train_data.repeat().shuffle(5000).batch(batch_size).prefetch(1)\n",
        "print(\"Cell executed. Move to the next cell\")"
      ],
      "execution_count": null,
      "outputs": []
    },
    {
      "cell_type": "markdown",
      "metadata": {
        "colab_type": "text",
        "id": "q-NeRqw2TJ0C"
      },
      "source": [
        "#### Initializing weights and biases"
      ]
    },
    {
      "cell_type": "code",
      "metadata": {
        "colab_type": "code",
        "id": "xmKWfQs_TJ0C",
        "colab": {}
      },
      "source": [
        "# Weight of shape [784, 10], the 28*28 image features, and a total number of classes.\n",
        "W = tf.Variable(tf.ones([num_features, num_classes]), name=\"weight\")\n",
        "\n",
        "# Bias of shape [10], the total number of classes.\n",
        "b = tf.Variable(tf.zeros([num_classes]), name=\"bias\")\n",
        "print(\"Cell executed. Move to the next cell\")"
      ],
      "execution_count": null,
      "outputs": []
    },
    {
      "cell_type": "markdown",
      "metadata": {
        "colab_type": "text",
        "id": "Q46tFRaLTJ0E"
      },
      "source": [
        "#### Defining Logisitic Regression and Cost function"
      ]
    },
    {
      "cell_type": "code",
      "metadata": {
        "colab_type": "code",
        "id": "Fnvh-58uTJ0E",
        "colab": {}
      },
      "source": [
        "# Logistic regression (Wx + b).\n",
        "def logistic_regression(x):\n",
        "    # Apply softmax to normalize the logits to a probability distribution.\n",
        "    return tf.nn.softmax(tf.matmul(x, W) + b)\n",
        "\n",
        "# Cross-Entropy loss function.\n",
        "def cross_entropy(y_pred, y_true):\n",
        "    # Encode label to a one hot vector.\n",
        "    y_true = tf.one_hot(y_true, depth=num_classes)\n",
        "\n",
        "    # Clip prediction values to avoid log(0) error.\n",
        "    y_pred = tf.clip_by_value(y_pred, 1e-9, 1.)\n",
        "\n",
        "    # Compute cross-entropy.\n",
        "    return tf.reduce_mean(-tf.reduce_sum(y_true * tf.math.log(y_pred)))\n",
        "print(\"Cell executed. Move to the next cell\")"
      ],
      "execution_count": null,
      "outputs": []
    },
    {
      "cell_type": "markdown",
      "metadata": {
        "colab_type": "text",
        "id": "g2OwurgXTJ0F"
      },
      "source": [
        "#### Defining Optimizers and Accuracy Metrics"
      ]
    },
    {
      "cell_type": "code",
      "metadata": {
        "colab_type": "code",
        "id": "BljndUQWTJ0G",
        "colab": {}
      },
      "source": [
        "# Accuracy metric.\n",
        "def accuracy(y_pred, y_true):\n",
        "    # Predicted class is the index of the highest score in prediction vector (i.e. argmax).\n",
        "\n",
        "    correct_prediction = tf.equal(tf.argmax(y_pred, 1), tf.cast(y_true, tf.int64))\n",
        "\n",
        "    return tf.reduce_mean(tf.cast(correct_prediction, tf.float32))\n",
        "\n",
        "# Stochastic gradient descent optimizer.\n",
        "optimizer = tf.optimizers.SGD(learning_rate)\n",
        "print(\"Cell executed. Move to the next cell\")"
      ],
      "execution_count": null,
      "outputs": []
    },
    {
      "cell_type": "markdown",
      "metadata": {
        "colab_type": "text",
        "id": "PnEa1LynTJ0H"
      },
      "source": [
        "#### Optimization process and Updating Weights and Biases"
      ]
    },
    {
      "cell_type": "code",
      "metadata": {
        "colab_type": "code",
        "id": "HolJS_gwTJ0H",
        "colab": {}
      },
      "source": [
        "# Optimization process. \n",
        "\n",
        "def run_optimization(x, y):\n",
        "    # Wrap computation inside a GradientTape for automatic differentiation.\n",
        "    with tf.GradientTape() as g:\n",
        "        pred = logistic_regression(x)\n",
        "        loss = cross_entropy(pred, y)\n",
        "    # Compute gradients.\n",
        "    gradients = g.gradient(loss, [W, b])\n",
        "\n",
        "    # Update W and b following gradients.\n",
        "    optimizer.apply_gradients(zip(gradients, [W, b]))\n",
        "    \n",
        "    \n",
        "# printf\n",
        "print(\"Cell executed. Move to the next cell\")\n"
      ],
      "execution_count": null,
      "outputs": []
    },
    {
      "cell_type": "markdown",
      "metadata": {
        "colab_type": "text",
        "id": "E5-rqe-jTJ0I"
      },
      "source": [
        "#### Training loop"
      ]
    },
    {
      "cell_type": "code",
      "metadata": {
        "colab_type": "code",
        "id": "CfTTck_GTJ0I",
        "colab": {}
      },
      "source": [
        "# Run training for the given number of steps.\n",
        "\n",
        "print(\"This cell should run and show output for 1000 steps. Running ...\")\n",
        "\n",
        "for step, (batch_x, batch_y) in enumerate(train_data.take(training_steps), 1):\n",
        "    # Run the optimization to update W and b values.\n",
        "    run_optimization(batch_x, batch_y)\n",
        "    if step % display_step == 0:\n",
        "        pred = logistic_regression(batch_x)\n",
        "        loss = cross_entropy(pred, batch_y)\n",
        "        acc = accuracy(pred, batch_y)\n",
        "        print(\"step: %i, loss: %f, accuracy: %f\" % (step, loss, acc))\n",
        "        \n",
        "print(\"Cell executed. Move to the next cell\")"
      ],
      "execution_count": null,
      "outputs": []
    },
    {
      "cell_type": "markdown",
      "metadata": {
        "colab_type": "text",
        "id": "7oSUDC6_TJ0K"
      },
      "source": [
        "#### Testing model accuracy using the testing data"
      ]
    },
    {
      "cell_type": "code",
      "metadata": {
        "colab_type": "code",
        "id": "TbWExL4yTJ0K",
        "colab": {}
      },
      "source": [
        "# Test model on validation set.\n",
        "pred = logistic_regression(x_test)\n",
        "print(\"Test Accuracy: %f\" % accuracy(pred, y_test))"
      ],
      "execution_count": null,
      "outputs": []
    },
    {
      "cell_type": "markdown",
      "metadata": {
        "colab_type": "text",
        "id": "yw34fVUVweHt"
      },
      "source": [
        "## Part 5 - Organizing the Code for Development of Deep Leaning Models\n",
        "This assignment was distributed as a collection of directories and files (either through the github/bitbucket or a collection of files in a *.zip package).\n",
        "The organization of directories and files is described in the corresponding README file, and illustrated below as well:\n",
        "<p style='color:red'><strong>TODO Study the organization of directories and files for this assignment</strong></p>\n",
        " - In particular examine the way in which jupyter notebook files and utility python files are distributed accross directories. Students will be required to follow this (or very similar) directory structure for their assignments and projects. For every project/assignment, a similar tree structure needs to be generated and appended to the README file.\n",
        "\n",
        "A typical organization of the top directory as of 8/24/2020 can be seen at the end of the README.md file."
      ]
    },
    {
      "cell_type": "markdown",
      "metadata": {
        "colab_type": "text",
        "id": "vCe_Tn5pTJ0L"
      },
      "source": [
        "### Steps to create and visualize the tree-like directory structure:\n",
        "<p style='color:red'><strong>1. For Linux:</strong></p>\n",
        "\n",
        "a. Go to the directory for which you want to create and visualize the tree structure for.\n",
        "\n",
        "b. Type : !tree -a >> README.md in the jupyter notebook - This will append the tree to the README.md file in the same directory.\n",
        "\n",
        "c.  After running the above command make the following changes:\n",
        "\n",
        "- Go to the README.md and remove the below mentioned lines \n",
        "\"Folder PATH listing for volume DATA\n",
        "Volume serial number is 0A8A-1CBE\n",
        "D:\\CA_4040\\MASTER_BRANCH\\E4040-2020FALL-ASSIGNMENTSALL-INSTRUCTORVERSION\\ASSIGNMENT0.SOLUTION\"\n",
        "\n",
        "- then, manually enclose the whole appended text in 3 single quotes (inverted quote ```) at the top and the bottom with the same indentation. (Look at the the example mentioned below)\n",
        " \n",
        "<p style='color:red'><strong>2. For Windows:</strong></p>\n",
        "\n",
        "a. Go to the directory that you want the tree structure for.\n",
        "\n",
        "b. Type : !tree ./ /f /a >> README.md in the jupyter notebook - This will append the tree to the README.md file in the same directory.\n",
        "\n",
        "c.  After running the above command make below mentioned changes:\n",
        "\n",
        "- Go to the README.md and remove the below mentioned lines \n",
        "\"Folder PATH listing for volume DATA\n",
        "Volume serial number is 0A8A-1CBE\n",
        "D:\\CA_4040\\MASTER_BRANCH\\E4040-2020FALL-ASSIGNMENTSALL-INSTRUCTORVERSION\\ASSIGNMENT0.SOLUTION\"\n",
        "\n",
        "- Then, manually enclose the whole appended text within 3 single quotes (inverted quote ```) at the top and the bottom with the same indentation. (Look at the the example mentioned below)\n",
        "\n",
        "d. NOTE:The two chevrons >> are used to append the output of a command to the bottom of a file (instead of one chevron which overwrites the file).\n"
      ]
    },
    {
      "cell_type": "markdown",
      "metadata": {
        "colab_type": "text",
        "id": "7fyBqJlTTJ0L"
      },
      "source": [
        "## Submission of the Assignment\n",
        "The method of the submission and the naming are described in the README.md file, distributed in Github. For formal submission, additional instructions will be provided a few days before the assignment is due."
      ]
    },
    {
      "cell_type": "markdown",
      "metadata": {
        "colab_type": "text",
        "id": "N6y2_8vww0oN"
      },
      "source": [
        "## End of the assignment"
      ]
    }
  ]
}